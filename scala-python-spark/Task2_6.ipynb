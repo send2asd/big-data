{
 "cells": [
  {
   "cell_type": "code",
   "execution_count": 49,
   "id": "9d2e5cf1-1ede-4ce0-8e89-e2b0ca6f5eea",
   "metadata": {
    "tags": []
   },
   "outputs": [],
   "source": [
    "from pyspark.sql import SparkSession\n",
    "from pyspark.sql.functions import *\n",
    "from pyspark.sql import Row, Window"
   ]
  },
  {
   "cell_type": "code",
   "execution_count": 50,
   "id": "5daff28d-c854-4457-bd67-0175c069a77d",
   "metadata": {
    "tags": []
   },
   "outputs": [],
   "source": [
    "spark = SparkSession.builder \\\n",
    "    .master(\"local\") \\\n",
    "    .appName(\"t\") \\\n",
    "    .getOrCreate()"
   ]
  },
  {
   "cell_type": "code",
   "execution_count": 51,
   "id": "6425a914-b0ee-4032-bc65-5ce1f9538ba3",
   "metadata": {
    "tags": []
   },
   "outputs": [],
   "source": [
    " product_df = spark.read.parquet(\"DatasetToCompleteTheSixSparkExercises/products_parquet\")"
   ]
  },
  {
   "cell_type": "code",
   "execution_count": 52,
   "id": "49314ad2-1f66-4a58-a099-8e1d0337793d",
   "metadata": {
    "tags": []
   },
   "outputs": [
    {
     "name": "stdout",
     "output_type": "stream",
     "text": [
      "+----------+------------+-----+\n",
      "|product_id|product_name|price|\n",
      "+----------+------------+-----+\n",
      "|         0|   product_0|   22|\n",
      "|         1|   product_1|   30|\n",
      "|         2|   product_2|   91|\n",
      "|         3|   product_3|   37|\n",
      "|         4|   product_4|  145|\n",
      "|         5|   product_5|  128|\n",
      "|         6|   product_6|   66|\n",
      "|         7|   product_7|  145|\n",
      "|         8|   product_8|   51|\n",
      "|         9|   product_9|   44|\n",
      "|        10|  product_10|   53|\n",
      "|        11|  product_11|   13|\n",
      "|        12|  product_12|  104|\n",
      "|        13|  product_13|  102|\n",
      "|        14|  product_14|   24|\n",
      "|        15|  product_15|   14|\n",
      "|        16|  product_16|   38|\n",
      "|        17|  product_17|   72|\n",
      "|        18|  product_18|   16|\n",
      "|        19|  product_19|   46|\n",
      "+----------+------------+-----+\n",
      "only showing top 20 rows\n",
      "\n"
     ]
    }
   ],
   "source": [
    "product_df.show()"
   ]
  },
  {
   "cell_type": "code",
   "execution_count": 53,
   "id": "b10c97a1-9362-4e76-8945-a193ccaa6806",
   "metadata": {
    "tags": []
   },
   "outputs": [],
   "source": [
    " sale_df = spark.read.parquet(\"DatasetToCompleteTheSixSparkExercises/sales_parquet\")"
   ]
  },
  {
   "cell_type": "code",
   "execution_count": 54,
   "id": "3113cfa8-e694-49b7-b1d0-284b98901229",
   "metadata": {
    "tags": []
   },
   "outputs": [
    {
     "name": "stdout",
     "output_type": "stream",
     "text": [
      "+--------+----------+---------+----------+---------------+--------------------+\n",
      "|order_id|product_id|seller_id|      date|num_pieces_sold|       bill_raw_text|\n",
      "+--------+----------+---------+----------+---------------+--------------------+\n",
      "|       1|         0|        0|2020-07-10|             26|kyeibuumwlyhuwksx...|\n",
      "|       2|         0|        0|2020-07-08|             13|jfyuoyfkeyqkckwbu...|\n",
      "|       3|         0|        0|2020-07-05|             38|uyjihlzhzcswxcccx...|\n",
      "|       4|         0|        0|2020-07-05|             56|umnxvoqbdzpbwjqmz...|\n",
      "|       5|         0|        0|2020-07-05|             11|zmqexmaawmvdpqhih...|\n",
      "|       6|         0|        0|2020-07-01|             82|lmuhhkpyuoyslwmvX...|\n",
      "|       7|         0|        0|2020-07-04|             15|zoqweontumefxbgvu...|\n",
      "|       8|         0|        0|2020-07-08|             79|sgldfgtcxufasnvsc...|\n",
      "|       9|         0|        0|2020-07-10|             25|jnykelwjjebgkwgmu...|\n",
      "|      10|         0|        0|2020-07-08|              8|yywjfihneygcvfnyl...|\n",
      "|      11|         0|        0|2020-07-01|             10|nxwejyoeznltdhcam...|\n",
      "|      12|         0|        0|2020-07-06|             45|efmymeftivwsfljzt...|\n",
      "|      13|         0|        0|2020-07-10|             63|nxhvtospPhfnkavdy...|\n",
      "|      14|         0|        0|2020-07-03|             22|ypyusdsjzfpfbucnn...|\n",
      "|      15|         0|        0|2020-07-09|             75|ymjvbhaxffyjcwzyn...|\n",
      "|      16|         0|        0|2020-07-10|             83|phbcykkhvqsbkipwa...|\n",
      "|      17|         0|        0|2020-07-04|             54|qgnGqqnjmbqZytoug...|\n",
      "|      18|         0|        0|2020-07-04|             58|ozmllbabrnhebWcex...|\n",
      "|      19|         0|        0|2020-07-07|             33|kbrvXuzgiuinodtkg...|\n",
      "|      20|         0|        0|2020-07-09|             73|jnqjzaigjtqlfwpug...|\n",
      "+--------+----------+---------+----------+---------------+--------------------+\n",
      "only showing top 20 rows\n",
      "\n"
     ]
    }
   ],
   "source": [
    "sale_df.show()"
   ]
  },
  {
   "cell_type": "code",
   "execution_count": 55,
   "id": "b3f58a49-f586-45f0-9678-2fff72dced34",
   "metadata": {
    "tags": []
   },
   "outputs": [],
   "source": [
    " saller_df = spark.read.parquet(\"DatasetToCompleteTheSixSparkExercises/sellers_parquet\")"
   ]
  },
  {
   "cell_type": "code",
   "execution_count": 56,
   "id": "5a242efc-d1a8-4676-a7b4-39369de005c3",
   "metadata": {
    "tags": []
   },
   "outputs": [
    {
     "name": "stdout",
     "output_type": "stream",
     "text": [
      "+---------+-----------+------------+\n",
      "|seller_id|seller_name|daily_target|\n",
      "+---------+-----------+------------+\n",
      "|        0|   seller_0|     2500000|\n",
      "|        1|   seller_1|      257237|\n",
      "|        2|   seller_2|      754188|\n",
      "|        3|   seller_3|      310462|\n",
      "|        4|   seller_4|     1532808|\n",
      "|        5|   seller_5|     1199693|\n",
      "|        6|   seller_6|     1055915|\n",
      "|        7|   seller_7|     1946998|\n",
      "|        8|   seller_8|      547320|\n",
      "|        9|   seller_9|     1318051|\n",
      "+---------+-----------+------------+\n",
      "\n"
     ]
    }
   ],
   "source": [
    "saller_df.show()"
   ]
  },
  {
   "cell_type": "markdown",
   "id": "ee60a87c-ac1d-4328-b54a-44afeddd6b7b",
   "metadata": {},
   "source": [
    "### Task-2: How many distinct products are sold each day?"
   ]
  },
  {
   "cell_type": "code",
   "execution_count": 58,
   "id": "cecc1682-1a76-4931-9052-c8d5fcd6b55e",
   "metadata": {
    "tags": []
   },
   "outputs": [
    {
     "name": "stdout",
     "output_type": "stream",
     "text": [
      "+----------+----------------------+\n",
      "|      date|distinct_sold_products|\n",
      "+----------+----------------------+\n",
      "|2020-07-06|                100765|\n",
      "|2020-07-09|                100501|\n",
      "|2020-07-01|                100337|\n",
      "|2020-07-03|                100017|\n",
      "|2020-07-02|                 99807|\n",
      "|2020-07-05|                 99796|\n",
      "|2020-07-04|                 99791|\n",
      "|2020-07-07|                 99756|\n",
      "|2020-07-08|                 99662|\n",
      "|2020-07-10|                 98973|\n",
      "+----------+----------------------+\n",
      "\n"
     ]
    }
   ],
   "source": [
    " g_df = sale_df.groupby(col(\"date\")).agg(countDistinct(col(\"product_id\")).alias(\"distinct_sold_products\")).orderBy(\n",
    "    col(\"distinct_sold_products\").desc()).show()"
   ]
  },
  {
   "cell_type": "markdown",
   "id": "84bec554-352a-4c76-aa27-a361489ff45f",
   "metadata": {},
   "source": [
    "### Task-3: What is the average revenue of the orders?"
   ]
  },
  {
   "cell_type": "code",
   "execution_count": 63,
   "id": "b19c1fd9-34e9-4110-a437-1e6ba75ae214",
   "metadata": {
    "tags": []
   },
   "outputs": [
    {
     "name": "stdout",
     "output_type": "stream",
     "text": [
      "+------------------------------+\n",
      "|avg((price * num_pieces_sold))|\n",
      "+------------------------------+\n",
      "|            1246.1338560822878|\n",
      "+------------------------------+\n",
      "\n"
     ]
    }
   ],
   "source": [
    "sale_df.join(product_df, sale_df[\"product_id\"] == product_df[\"product_id\"], \"inner\").agg(avg(product_df[\"price\"] * sale_df[\"num_pieces_sold\"])).alias(\"average_revenue_orders\").show()"
   ]
  },
  {
   "cell_type": "markdown",
   "id": "31e33f57-460c-42c0-9d25-f60ecdd40255",
   "metadata": {},
   "source": [
    "### Task-4: What is the average daily revenue of each product?"
   ]
  },
  {
   "cell_type": "code",
   "execution_count": 66,
   "id": "642ba97f-f7d4-4e10-a990-70d7a9b926fd",
   "metadata": {
    "tags": []
   },
   "outputs": [
    {
     "name": "stdout",
     "output_type": "stream",
     "text": [
      "+----------+----------+---------------------------------------+\n",
      "|product_id|      date|Average revenue of orders by Product ID|\n",
      "+----------+----------+---------------------------------------+\n",
      "|  10000047|2020-07-07|                                  551.0|\n",
      "|  10000715|2020-07-04|                                 3825.0|\n",
      "|  10002110|2020-07-09|                                12125.0|\n",
      "|  10004929|2020-07-03|                                 1394.0|\n",
      "|  10005243|2020-07-04|                                 4312.0|\n",
      "|  10005267|2020-07-06|                                 1387.0|\n",
      "|  10005605|2020-07-08|                                   67.0|\n",
      "|  10007641|2020-07-08|                                 4664.0|\n",
      "|   1000879|2020-07-09|                                 1400.0|\n",
      "|  10009135|2020-07-08|                                 1944.0|\n",
      "|  10010167|2020-07-05|                                   69.0|\n",
      "|  10010700|2020-07-06|                                 6210.0|\n",
      "|  10011268|2020-07-03|                                 2028.0|\n",
      "|  10011650|2020-07-01|                                 5940.0|\n",
      "|   1001487|2020-07-01|                                 7194.0|\n",
      "|  10015577|2020-07-04|                                 9324.0|\n",
      "|  10016462|2020-07-05|                                 6480.0|\n",
      "|  10016743|2020-07-08|                                  774.0|\n",
      "|  10017874|2020-07-07|                                11360.0|\n",
      "|  10018083|2020-07-01|                                 6600.0|\n",
      "+----------+----------+---------------------------------------+\n",
      "only showing top 20 rows\n",
      "\n"
     ]
    }
   ],
   "source": [
    "sale_df.join(product_df, sale_df[\"product_id\"] == product_df[\"product_id\"], \"inner\").groupby(product_df['product_id'],sale_df[\"date\"]).agg(avg(product_df[\"price\"] * sale_df[\"num_pieces_sold\"]).alias('Average revenue of orders by Product ID')).show()"
   ]
  },
  {
   "cell_type": "markdown",
   "id": "d4377360-78af-4cdb-8ffb-6fa610b4f406",
   "metadata": {},
   "source": [
    "### Task-5: For each seller, what is the average % contribution of an order to the sellers daily quota?"
   ]
  },
  {
   "cell_type": "code",
   "execution_count": 67,
   "id": "1233fc72-4a10-4c9b-8dde-1838d7c4c6d9",
   "metadata": {
    "tags": []
   },
   "outputs": [
    {
     "name": "stdout",
     "output_type": "stream",
     "text": [
      "+---------+--------------------+\n",
      "|seller_id|          avg(ratio)|\n",
      "+---------+--------------------+\n",
      "|        0|2.019885898946922...|\n",
      "|        7|2.595228787788170...|\n",
      "|        3| 1.62888537056594E-4|\n",
      "|        8|9.213030375408861E-5|\n",
      "|        5|4.211073965904022E-5|\n",
      "|        6|4.782147194369122E-5|\n",
      "|        9|3.837913136180238E-5|\n",
      "|        1|1.964233366461014...|\n",
      "|        4|3.296428039825817E-5|\n",
      "|        2|6.690408001060484E-5|\n",
      "+---------+--------------------+\n",
      "\n",
      "None\n"
     ]
    }
   ],
   "source": [
    "print(sale_df.join(broadcast(saller_df), sale_df[\"seller_id\"] == saller_df[\"seller_id\"], \"inner\").withColumn(\n",
    "    \"ratio\", sale_df[\"num_pieces_sold\"]/saller_df[\"daily_target\"]\n",
    ").groupBy(sale_df[\"seller_id\"]).agg(avg(\"ratio\")).show())"
   ]
  },
  {
   "cell_type": "markdown",
   "id": "7588c44b-8662-40ca-91e0-bdecc03a359f",
   "metadata": {},
   "source": [
    "### Task-6: Who are the second most selling and the least selling persons (sellers) for each product? "
   ]
  },
  {
   "cell_type": "code",
   "execution_count": 40,
   "id": "c8ce6123-9fcb-4aa8-9b4e-2912ade2a624",
   "metadata": {
    "tags": []
   },
   "outputs": [],
   "source": [
    "sales_table = sale_df.groupby(col(\"product_id\"), col(\"seller_id\")).agg(sum(\"num_pieces_sold\").alias(\"num_pieces_sold\")) "
   ]
  },
  {
   "cell_type": "code",
   "execution_count": 41,
   "id": "878bc743-0eb1-4041-8ef0-51815a5c6f24",
   "metadata": {
    "tags": []
   },
   "outputs": [],
   "source": [
    "window_desc = Window.partitionBy(col(\"product_id\")).orderBy(col(\"num_pieces_sold\").desc())\n",
    "window_asc = Window.partitionBy(col(\"product_id\")).orderBy(col(\"num_pieces_sold\").asc())"
   ]
  },
  {
   "cell_type": "code",
   "execution_count": 42,
   "id": "8499c078-7616-470f-86d4-bd7d27a1c9cf",
   "metadata": {
    "tags": []
   },
   "outputs": [],
   "source": [
    "sales_table = sales_table.withColumn(\"rank_asc\", dense_rank().over(window_asc)). \\\n",
    "    withColumn(\"rank_desc\", dense_rank().over(window_desc))\n",
    "\n",
    "single_seller = sales_table.where(col(\"rank_asc\") == col(\"rank_desc\")).select(\n",
    "    col(\"product_id\").alias(\"single_seller_product_id\"), col(\"seller_id\").alias(\"single_seller_seller_id\"),\n",
    "    lit(\"Only seller or multiple sellers with the same results\").alias(\"type\")\n",
    ")"
   ]
  },
  {
   "cell_type": "code",
   "execution_count": 69,
   "id": "5a1a1ee4-0bdb-4c4b-9db7-0bedcb9c557d",
   "metadata": {
    "tags": []
   },
   "outputs": [],
   "source": [
    "\n",
    "second_seller = sales_table.where(col(\"rank_desc\") == 2).select(\n",
    "    col(\"product_id\").alias(\"second_seller_product_id\"), col(\"seller_id\").alias(\"second_seller_seller_id\"),\n",
    "    lit(\"Second top seller\").alias(\"type\")\n",
    ")\n",
    "\n",
    "\n",
    "\n"
   ]
  },
  {
   "cell_type": "code",
   "execution_count": 70,
   "id": "d62e6e4f-215b-466b-b6b5-7d0d99481bed",
   "metadata": {
    "tags": []
   },
   "outputs": [],
   "source": [
    "# Get the least sellers and exclude those rows that are already included in the first piece\n",
    "\n",
    "least_seller = sales_table.where(col(\"rank_asc\") == 1).select(\n",
    "    col(\"product_id\"), col(\"seller_id\"),\n",
    "    lit(\"Least Seller\").alias(\"type\")).join(single_seller, (sales_table[\"seller_id\"] == single_seller[\"single_seller_seller_id\"]) & (\n",
    "        sales_table[\"product_id\"] == single_seller[\"single_seller_product_id\"]), \"left_anti\"). \\\n",
    "    join(second_seller, (sales_table[\"seller_id\"] == second_seller[\"second_seller_seller_id\"]) & (\n",
    "        sales_table[\"product_id\"] == second_seller[\"second_seller_product_id\"]), \"left_anti\")"
   ]
  },
  {
   "cell_type": "code",
   "execution_count": 71,
   "id": "8ac4d965-81e0-4e4c-9f31-0afd0b3d95b8",
   "metadata": {
    "tags": []
   },
   "outputs": [
    {
     "name": "stdout",
     "output_type": "stream",
     "text": [
      "+------------------------+-----------------------+-----------------+\n",
      "|second_seller_product_id|second_seller_seller_id|             type|\n",
      "+------------------------+-----------------------+-----------------+\n",
      "|                  100142|                      9|Second top seller|\n",
      "|                10030330|                      5|Second top seller|\n",
      "|                10031766|                      5|Second top seller|\n",
      "|                10059280|                      7|Second top seller|\n",
      "|                10063288|                      7|Second top seller|\n",
      "|                10067998|                      9|Second top seller|\n",
      "|                10074531|                      9|Second top seller|\n",
      "|                10079600|                      9|Second top seller|\n",
      "|                10090404|                      6|Second top seller|\n",
      "|                10099820|                      3|Second top seller|\n",
      "|                 1011418|                      4|Second top seller|\n",
      "|                10140476|                      4|Second top seller|\n",
      "|                 1015828|                      4|Second top seller|\n",
      "|                 1015908|                      8|Second top seller|\n",
      "|                 1016707|                      4|Second top seller|\n",
      "|                10176212|                      2|Second top seller|\n",
      "|                10189576|                      5|Second top seller|\n",
      "|                10196252|                      7|Second top seller|\n",
      "|                10208871|                      7|Second top seller|\n",
      "|                10220712|                      3|Second top seller|\n",
      "+------------------------+-----------------------+-----------------+\n",
      "only showing top 20 rows\n",
      "\n"
     ]
    }
   ],
   "source": [
    "second_seller.show()\n"
   ]
  },
  {
   "cell_type": "code",
   "execution_count": 72,
   "id": "c7efe331-2ee5-43eb-a456-01e470494ceb",
   "metadata": {
    "tags": []
   },
   "outputs": [
    {
     "name": "stdout",
     "output_type": "stream",
     "text": [
      "+----------+---------+------------+\n",
      "|product_id|seller_id|        type|\n",
      "+----------+---------+------------+\n",
      "|  19986717|        1|Least Seller|\n",
      "|  72017876|        1|Least Seller|\n",
      "|   3534470|        3|Least Seller|\n",
      "|  35669461|        4|Least Seller|\n",
      "|  14542470|        5|Least Seller|\n",
      "|  28592106|        5|Least Seller|\n",
      "|  34681047|        5|Least Seller|\n",
      "|  40496308|        5|Least Seller|\n",
      "|  56011040|        5|Least Seller|\n",
      "|  67723231|        5|Least Seller|\n",
      "|  69790381|        5|Least Seller|\n",
      "|  10978356|        7|Least Seller|\n",
      "|  18182299|        7|Least Seller|\n",
      "|  52606213|        7|Least Seller|\n",
      "|  61475460|        7|Least Seller|\n",
      "|  17944574|        8|Least Seller|\n",
      "|  36269838|        8|Least Seller|\n",
      "|  20774718|        9|Least Seller|\n",
      "|  31136332|        9|Least Seller|\n",
      "|  32602520|        9|Least Seller|\n",
      "+----------+---------+------------+\n",
      "only showing top 20 rows\n",
      "\n"
     ]
    }
   ],
   "source": [
    "least_seller.show()"
   ]
  }
 ],
 "metadata": {
  "kernelspec": {
   "display_name": "Python 3 (ipykernel)",
   "language": "python",
   "name": "python3"
  },
  "language_info": {
   "codemirror_mode": {
    "name": "ipython",
    "version": 3
   },
   "file_extension": ".py",
   "mimetype": "text/x-python",
   "name": "python",
   "nbconvert_exporter": "python",
   "pygments_lexer": "ipython3",
   "version": "3.10.10"
  }
 },
 "nbformat": 4,
 "nbformat_minor": 5
}
