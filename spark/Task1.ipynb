{
 "cells": [
  {
   "cell_type": "code",
   "execution_count": 1,
   "id": "68843d5f-83b4-41cf-a8f3-77a2caf826f1",
   "metadata": {
    "tags": []
   },
   "outputs": [],
   "source": [
    "from pyspark.sql import SparkSession\n",
    "from pyspark.sql.functions import *\n"
   ]
  },
  {
   "cell_type": "markdown",
   "id": "7bbf4267-e711-4601-be78-fbd293b5cfa7",
   "metadata": {},
   "source": [
    "### Initilize spark session"
   ]
  },
  {
   "cell_type": "code",
   "execution_count": 2,
   "id": "912990f5-0057-4411-9997-71045208ca62",
   "metadata": {
    "tags": []
   },
   "outputs": [],
   "source": [
    "spark = SparkSession.builder \\\n",
    "    .master(\"local\") \\\n",
    "    .appName(\"SP_6500_History\") \\\n",
    "    .config(\"spark.some.config.option\", \"some-value\") \\\n",
    "    .getOrCreate()"
   ]
  },
  {
   "cell_type": "markdown",
   "id": "8e8432d0-9a8d-435a-870b-1eb0d60151b2",
   "metadata": {},
   "source": [
    "### Load the CSV Data"
   ]
  },
  {
   "cell_type": "code",
   "execution_count": 8,
   "id": "9d06eda1-e9f3-4531-a4ed-c8d54f6c0d41",
   "metadata": {
    "tags": []
   },
   "outputs": [],
   "source": [
    "df = spark.read.csv('SP_500_Historical.csv', inferSchema=True, header= True)"
   ]
  },
  {
   "cell_type": "code",
   "execution_count": 9,
   "id": "b7ba3073-0568-4cbd-ac02-b8124376bdc1",
   "metadata": {
    "tags": []
   },
   "outputs": [
    {
     "name": "stdout",
     "output_type": "stream",
     "text": [
      "+-------------------+---------+---------+---------+---------+---------+------+\n",
      "|               Date|     Open|     High|      Low|    Close|Adj Close|Volume|\n",
      "+-------------------+---------+---------+---------+---------+---------+------+\n",
      "|1927-12-30 00:00:00|    17.66|    17.66|    17.66|    17.66|    17.66|     0|\n",
      "|1928-01-03 00:00:00|    17.76|    17.76|    17.76|    17.76|    17.76|     0|\n",
      "|1928-01-04 00:00:00|17.719999|17.719999|17.719999|17.719999|17.719999|     0|\n",
      "|1928-01-05 00:00:00|17.549999|17.549999|17.549999|17.549999|17.549999|     0|\n",
      "|1928-01-06 00:00:00|    17.66|    17.66|    17.66|    17.66|    17.66|     0|\n",
      "|1928-01-09 00:00:00|     17.5|     17.5|     17.5|     17.5|     17.5|     0|\n",
      "|1928-01-10 00:00:00|17.370001|17.370001|17.370001|17.370001|17.370001|     0|\n",
      "|1928-01-11 00:00:00|    17.35|    17.35|    17.35|    17.35|    17.35|     0|\n",
      "|1928-01-12 00:00:00|17.469999|17.469999|17.469999|17.469999|17.469999|     0|\n",
      "|1928-01-13 00:00:00|    17.58|    17.58|    17.58|    17.58|    17.58|     0|\n",
      "|1928-01-16 00:00:00|17.290001|17.290001|17.290001|17.290001|17.290001|     0|\n",
      "|1928-01-17 00:00:00|17.299999|17.299999|17.299999|17.299999|17.299999|     0|\n",
      "|1928-01-18 00:00:00|    17.26|    17.26|    17.26|    17.26|    17.26|     0|\n",
      "|1928-01-19 00:00:00|17.379999|17.379999|17.379999|17.379999|17.379999|     0|\n",
      "|1928-01-20 00:00:00|    17.48|    17.48|    17.48|    17.48|    17.48|     0|\n",
      "|1928-01-23 00:00:00|17.639999|17.639999|17.639999|17.639999|17.639999|     0|\n",
      "|1928-01-24 00:00:00|17.709999|17.709999|17.709999|17.709999|17.709999|     0|\n",
      "|1928-01-25 00:00:00|    17.52|    17.52|    17.52|    17.52|    17.52|     0|\n",
      "|1928-01-26 00:00:00|17.629999|17.629999|17.629999|17.629999|17.629999|     0|\n",
      "|1928-01-27 00:00:00|17.690001|17.690001|17.690001|17.690001|17.690001|     0|\n",
      "+-------------------+---------+---------+---------+---------+---------+------+\n",
      "only showing top 20 rows\n",
      "\n"
     ]
    }
   ],
   "source": [
    "df.show()"
   ]
  },
  {
   "cell_type": "markdown",
   "id": "8279531e-b4af-4558-bf2e-7d981ac8fc5c",
   "metadata": {},
   "source": [
    "### Display the column names"
   ]
  },
  {
   "cell_type": "code",
   "execution_count": 10,
   "id": "306c9013-993a-4d27-ba7d-491c0c0a28ea",
   "metadata": {
    "tags": []
   },
   "outputs": [
    {
     "data": {
      "text/plain": [
       "['Date', 'Open', 'High', 'Low', 'Close', 'Adj Close', 'Volume']"
      ]
     },
     "execution_count": 10,
     "metadata": {},
     "output_type": "execute_result"
    }
   ],
   "source": [
    "df.columns"
   ]
  },
  {
   "cell_type": "markdown",
   "id": "c7c99391-c975-4b21-aa7b-6a9e10df7151",
   "metadata": {},
   "source": [
    "### Display the first row of the dataframe"
   ]
  },
  {
   "cell_type": "code",
   "execution_count": 11,
   "id": "e316b30c-0e2f-4069-9462-04f4c607dc4e",
   "metadata": {
    "tags": []
   },
   "outputs": [
    {
     "data": {
      "text/plain": [
       "Row(Date=datetime.datetime(1927, 12, 30, 0, 0), Open=17.66, High=17.66, Low=17.66, Close=17.66, Adj Close=17.66, Volume=0)"
      ]
     },
     "execution_count": 11,
     "metadata": {},
     "output_type": "execute_result"
    }
   ],
   "source": [
    "df.head()"
   ]
  },
  {
   "cell_type": "markdown",
   "id": "e6cebc98-88c0-4d6d-b0a7-f7c310503a8f",
   "metadata": {},
   "source": [
    "### Check the schema of the dataframe"
   ]
  },
  {
   "cell_type": "code",
   "execution_count": 12,
   "id": "925ea833-e2a5-4193-bee3-640f2c765814",
   "metadata": {
    "tags": []
   },
   "outputs": [
    {
     "name": "stdout",
     "output_type": "stream",
     "text": [
      "root\n",
      " |-- Date: timestamp (nullable = true)\n",
      " |-- Open: double (nullable = true)\n",
      " |-- High: double (nullable = true)\n",
      " |-- Low: double (nullable = true)\n",
      " |-- Close: double (nullable = true)\n",
      " |-- Adj Close: double (nullable = true)\n",
      " |-- Volume: long (nullable = true)\n",
      "\n"
     ]
    }
   ],
   "source": [
    "df.printSchema()"
   ]
  },
  {
   "cell_type": "markdown",
   "id": "2a19724d-abe5-4f07-bb15-eda56ccaac47",
   "metadata": {
    "tags": []
   },
   "source": [
    "### Print the first 5 rows"
   ]
  },
  {
   "cell_type": "code",
   "execution_count": 13,
   "id": "6b2b18bf-3411-4ebe-a188-3dc7b802c389",
   "metadata": {
    "tags": []
   },
   "outputs": [
    {
     "name": "stdout",
     "output_type": "stream",
     "text": [
      "Row(Date=datetime.datetime(1927, 12, 30, 0, 0), Open=17.66, High=17.66, Low=17.66, Close=17.66, Adj Close=17.66, Volume=0) \n",
      "\n",
      "Row(Date=datetime.datetime(1928, 1, 3, 0, 0), Open=17.76, High=17.76, Low=17.76, Close=17.76, Adj Close=17.76, Volume=0) \n",
      "\n",
      "Row(Date=datetime.datetime(1928, 1, 4, 0, 0), Open=17.719999, High=17.719999, Low=17.719999, Close=17.719999, Adj Close=17.719999, Volume=0) \n",
      "\n",
      "Row(Date=datetime.datetime(1928, 1, 5, 0, 0), Open=17.549999, High=17.549999, Low=17.549999, Close=17.549999, Adj Close=17.549999, Volume=0) \n",
      "\n",
      "Row(Date=datetime.datetime(1928, 1, 6, 0, 0), Open=17.66, High=17.66, Low=17.66, Close=17.66, Adj Close=17.66, Volume=0) \n",
      "\n"
     ]
    }
   ],
   "source": [
    "for line in df.head(5):\n",
    "    print(line,'\\n')"
   ]
  },
  {
   "cell_type": "markdown",
   "id": "cf0b75f2-4d63-4a2e-bf44-439c81f74a6c",
   "metadata": {},
   "source": [
    "### Print general stats"
   ]
  },
  {
   "cell_type": "code",
   "execution_count": 14,
   "id": "f14e71bf-4ff3-43b2-a269-c0cceaf0b548",
   "metadata": {
    "tags": []
   },
   "outputs": [
    {
     "name": "stdout",
     "output_type": "stream",
     "text": [
      "+-------+------------------+-----------------+-----------------+-----------------+-----------------+-------------------+\n",
      "|summary|              Open|             High|              Low|            Close|        Adj Close|             Volume|\n",
      "+-------+------------------+-----------------+-----------------+-----------------+-----------------+-------------------+\n",
      "|  count|             23394|            23394|            23394|            23394|            23394|              23394|\n",
      "|   mean|476.11160499572713| 499.573078690306|493.5473208786023|496.7595207246288|496.7595207246288|7.818766662392067E8|\n",
      "| stddev| 758.6405523320375|750.7131015121531|742.3163058669743|746.8156180683476|746.8156180683476|1.501735206029603E9|\n",
      "|    min|               0.0|              4.4|              4.4|              4.4|              4.4|                  0|\n",
      "|    max|       3939.610107|      3950.429932|      3923.850098|      3934.830078|      3934.830078|        11456230000|\n",
      "+-------+------------------+-----------------+-----------------+-----------------+-----------------+-------------------+\n",
      "\n"
     ]
    }
   ],
   "source": [
    "df.describe().show()"
   ]
  },
  {
   "cell_type": "markdown",
   "id": "de411e52-0113-4748-9cce-d965f51a18fd",
   "metadata": {},
   "source": [
    "### Format columns to show just 2 decimal places"
   ]
  },
  {
   "cell_type": "code",
   "execution_count": 15,
   "id": "b4e6e3ba-efce-4e47-9086-fd8378f5df7c",
   "metadata": {
    "tags": []
   },
   "outputs": [
    {
     "name": "stdout",
     "output_type": "stream",
     "text": [
      "+-------+---------+-------+---------+-------+---------+-------+---------+-------+------+\n",
      "|summary|     Open|summary|     High|summary|      Low|summary|    Close|summary|Volume|\n",
      "+-------+---------+-------+---------+-------+---------+-------+---------+-------+------+\n",
      "|  count|23,394.00|  count|23,394.00|  count|23,394.00|  count|23,394.00|  count|23,394|\n",
      "|   mean|   476.11|   mean|   499.57|   mean|   493.55|   mean|   496.76|   mean|  null|\n",
      "| stddev|   758.64| stddev|   750.71| stddev|   742.32| stddev|   746.82| stddev|  null|\n",
      "|    min|     0.00|    min|     4.40|    min|     4.40|    min|     4.40|    min|     0|\n",
      "|    max| 3,939.61|    max| 3,950.43|    max| 3,923.85|    max| 3,934.83|    max|  null|\n",
      "+-------+---------+-------+---------+-------+---------+-------+---------+-------+------+\n",
      "\n"
     ]
    }
   ],
   "source": [
    "from pyspark.sql.functions import format_number\n",
    "summary = df.describe()\n",
    "summary.select(summary['summary'],format_number(summary['Open'].cast('float'),2).alias('Open'),summary['summary'],format_number(summary['High'].cast('float'),2).alias('High'),\n",
    "               summary['summary'],format_number(summary['Low'].cast('float'),2).alias('Low'),summary['summary'],format_number(summary['Close'].cast('float'),2).alias('Close'),\n",
    "               summary['summary'],format_number(summary['Volume'].cast('int'),0).alias('Volume')).show()"
   ]
  },
  {
   "cell_type": "markdown",
   "id": "807eea91-9cec-4ad8-94ee-b703cf23930c",
   "metadata": {},
   "source": [
    "### Create a new dataframe with a column called HV Ratio that is the ratio of the High Price versus volume of stock traded for a day"
   ]
  },
  {
   "cell_type": "code",
   "execution_count": 16,
   "id": "f21935d0-477b-40e4-88c6-2c68f55c793b",
   "metadata": {
    "tags": []
   },
   "outputs": [
    {
     "name": "stdout",
     "output_type": "stream",
     "text": [
      "+-------------------+---------+---------+---------+---------+---------+-------+--------------------+\n",
      "|               Date|     Open|     High|      Low|    Close|Adj Close| Volume|            HV Ratio|\n",
      "+-------------------+---------+---------+---------+---------+---------+-------+--------------------+\n",
      "|1950-01-03 00:00:00|    16.66|    16.66|    16.66|    16.66|    16.66|1260000|1.322222222222222...|\n",
      "|1950-01-04 00:00:00|    16.85|    16.85|    16.85|    16.85|    16.85|1890000|8.915343915343917E-6|\n",
      "|1950-01-05 00:00:00|    16.93|    16.93|    16.93|    16.93|    16.93|2550000| 6.63921568627451E-6|\n",
      "|1950-01-06 00:00:00|    16.98|    16.98|    16.98|    16.98|    16.98|2010000|8.447761194029851E-6|\n",
      "|1950-01-09 00:00:00|    17.08|    17.08|    17.08|    17.08|    17.08|2520000|6.777777777777777E-6|\n",
      "|1950-01-10 00:00:00|17.030001|17.030001|17.030001|17.030001|17.030001|2160000|7.884259722222222E-6|\n",
      "|1950-01-11 00:00:00|    17.09|    17.09|    17.09|    17.09|    17.09|2630000|6.498098859315589E-6|\n",
      "|1950-01-12 00:00:00|    16.76|    16.76|    16.76|    16.76|    16.76|2970000|5.643097643097644E-6|\n",
      "|1950-01-13 00:00:00|    16.67|    16.67|    16.67|    16.67|    16.67|3330000|5.006006006006006E-6|\n",
      "|1950-01-16 00:00:00|16.719999|16.719999|16.719999|16.719999|16.719999|1460000|1.145205410958904...|\n",
      "|1950-01-17 00:00:00|16.860001|16.860001|16.860001|16.860001|16.860001|1790000| 9.41899497206704E-6|\n",
      "|1950-01-18 00:00:00|    16.85|    16.85|    16.85|    16.85|    16.85|1570000|1.073248407643312...|\n",
      "|1950-01-19 00:00:00|16.870001|16.870001|16.870001|16.870001|16.870001|1170000|1.441880427350427...|\n",
      "|1950-01-20 00:00:00|     16.9|     16.9|     16.9|     16.9|     16.9|1440000|1.173611111111111E-5|\n",
      "|1950-01-23 00:00:00|    16.92|    16.92|    16.92|    16.92|    16.92|1340000|1.262686567164179...|\n",
      "|1950-01-24 00:00:00|16.860001|16.860001|16.860001|16.860001|16.860001|1250000|       1.34880008E-5|\n",
      "|1950-01-25 00:00:00|    16.74|    16.74|    16.74|    16.74|    16.74|1700000| 9.84705882352941E-6|\n",
      "|1950-01-26 00:00:00|    16.73|    16.73|    16.73|    16.73|    16.73|1150000|1.454782608695652...|\n",
      "|1950-01-27 00:00:00|    16.82|    16.82|    16.82|    16.82|    16.82|1250000|           1.3456E-5|\n",
      "|1950-01-30 00:00:00|    17.02|    17.02|    17.02|    17.02|    17.02|1640000|1.037804878048780...|\n",
      "+-------------------+---------+---------+---------+---------+---------+-------+--------------------+\n",
      "only showing top 20 rows\n",
      "\n"
     ]
    }
   ],
   "source": [
    "df_hv = df.withColumn('HV Ratio',df['High']/df['Volume'])\n",
    "df_hv.filter(col(\"Volume\") > 0).show()"
   ]
  },
  {
   "cell_type": "markdown",
   "id": "c0154414-7ca6-4f87-a5ea-c34cd12fb7fa",
   "metadata": {},
   "source": [
    "### Which day has the peak high in price?"
   ]
  },
  {
   "cell_type": "code",
   "execution_count": 17,
   "id": "3e4f94e2-1c8a-43bf-bba3-2f90e951fbc6",
   "metadata": {
    "tags": []
   },
   "outputs": [
    {
     "data": {
      "text/plain": [
       "datetime.datetime(2021, 2, 16, 0, 0)"
      ]
     },
     "execution_count": 17,
     "metadata": {},
     "output_type": "execute_result"
    }
   ],
   "source": [
    "df.orderBy(df [ 'High'].desc()).select(['Date']).head (1) [0] [ 'Date']"
   ]
  },
  {
   "cell_type": "markdown",
   "id": "3cc7cb95-8049-402f-844b-8906ad6d3f93",
   "metadata": {
    "tags": []
   },
   "source": [
    "### What is the mean of the \"Close\" column"
   ]
  },
  {
   "cell_type": "code",
   "execution_count": 18,
   "id": "f5c778a3-6add-4d0d-89eb-e491d45277b7",
   "metadata": {
    "tags": []
   },
   "outputs": [
    {
     "name": "stdout",
     "output_type": "stream",
     "text": [
      "+-----------------+\n",
      "|       avg(Close)|\n",
      "+-----------------+\n",
      "|496.7595207246288|\n",
      "+-----------------+\n",
      "\n"
     ]
    }
   ],
   "source": [
    "from pyspark.sql.functions import mean\n",
    "df.select (mean ('Close')).show()"
   ]
  },
  {
   "cell_type": "markdown",
   "id": "36cf6acf-e7fe-46ce-b566-36aa1052dae6",
   "metadata": {},
   "source": [
    "### What is the maximum and minimum value of the \"Volumn\" column"
   ]
  },
  {
   "cell_type": "code",
   "execution_count": 19,
   "id": "6a5bfeef-5596-4b1e-96f9-6b9158b7d267",
   "metadata": {
    "tags": []
   },
   "outputs": [
    {
     "name": "stdout",
     "output_type": "stream",
     "text": [
      "+-----------+-----------+\n",
      "|max(Volume)|min(Volume)|\n",
      "+-----------+-----------+\n",
      "|11456230000|          0|\n",
      "+-----------+-----------+\n",
      "\n"
     ]
    }
   ],
   "source": [
    "from pyspark.sql.functions import min, max\n",
    "df.select(max ('Volume'), min('Volume')).show()"
   ]
  },
  {
   "cell_type": "markdown",
   "id": "6e9ace31-6b32-4dab-9333-c734c9b87f76",
   "metadata": {},
   "source": [
    "### How many days did the stocks close lower than 60 dollars?"
   ]
  },
  {
   "cell_type": "code",
   "execution_count": 20,
   "id": "33afc667-9384-422b-bf38-f76eeab2d19a",
   "metadata": {
    "tags": []
   },
   "outputs": [
    {
     "data": {
      "text/plain": [
       "8381"
      ]
     },
     "execution_count": 20,
     "metadata": {},
     "output_type": "execute_result"
    }
   ],
   "source": [
    "df.filter (df [ 'Close'] < 60).count()"
   ]
  },
  {
   "cell_type": "markdown",
   "id": "ebb9dd33-21f4-4471-b378-33589e512a54",
   "metadata": {},
   "source": [
    "### What percentage of the time was the \"High\" greater than 80 dollars\n"
   ]
  },
  {
   "cell_type": "code",
   "execution_count": 21,
   "id": "63f86b4f-711b-466f-99e2-b72798b1cd14",
   "metadata": {
    "tags": []
   },
   "outputs": [
    {
     "data": {
      "text/plain": [
       "60.13935197059075"
      ]
     },
     "execution_count": 21,
     "metadata": {},
     "output_type": "execute_result"
    }
   ],
   "source": [
    "df.filter('High > 80').count() * 100/df.count()\n"
   ]
  },
  {
   "cell_type": "markdown",
   "id": "3f8861a7-2fba-4727-a747-45d709a47156",
   "metadata": {},
   "source": [
    "\n",
    "### What is the Pearson correlation between \"High\" and \"Volume\"\n"
   ]
  },
  {
   "cell_type": "code",
   "execution_count": 22,
   "id": "e6cfde46-6361-418c-b8bb-a6e5358a5ee4",
   "metadata": {
    "tags": []
   },
   "outputs": [
    {
     "data": {
      "text/plain": [
       "0.8243719072537106"
      ]
     },
     "execution_count": 22,
     "metadata": {},
     "output_type": "execute_result"
    }
   ],
   "source": [
    "df.corr('High', 'Volume')"
   ]
  },
  {
   "cell_type": "markdown",
   "id": "f4630170-b5c1-4698-86b9-6213c541f1ce",
   "metadata": {},
   "source": [
    "### What is the max \"High\" per year?"
   ]
  },
  {
   "cell_type": "code",
   "execution_count": 23,
   "id": "e96089a6-8c56-414e-ba7d-880fca3caee2",
   "metadata": {
    "tags": []
   },
   "outputs": [
    {
     "name": "stdout",
     "output_type": "stream",
     "text": [
      "+----+-----------+\n",
      "|Year|  max(High)|\n",
      "+----+-----------+\n",
      "|1959|  60.709999|\n",
      "|1990| 369.779999|\n",
      "|1975|  96.580002|\n",
      "|1977| 107.970001|\n",
      "|2003|1112.560059|\n",
      "|2007|1576.089966|\n",
      "|2018|2940.909912|\n",
      "|1974| 101.050003|\n",
      "|2015|2134.719971|\n",
      "|1927|      17.66|\n",
      "|1955|      46.41|\n",
      "|2006|1431.810059|\n",
      "|1978| 108.050003|\n",
      "|1961|  72.639999|\n",
      "|2013|1849.439941|\n",
      "|1942|       9.77|\n",
      "|1939|      13.23|\n",
      "|1944|      13.28|\n",
      "|1952|      26.59|\n",
      "|1934|      11.82|\n",
      "+----+-----------+\n",
      "only showing top 20 rows\n",
      "\n"
     ]
    }
   ],
   "source": [
    "from pyspark.sql.functions import (dayofmonth, hour,dayofyear, month, year, weekofyear, format_number, date_format)\n",
    "year_df = df.withColumn('Year', year (df['Date']))\n",
    "year_df.groupBy('Year') .max()['Year', 'max(High)'].show()"
   ]
  },
  {
   "cell_type": "markdown",
   "id": "ead7ca45-df84-4059-8d9f-cd1e42a6656a",
   "metadata": {},
   "source": [
    "### What is the average \"Close\" for each calender month?"
   ]
  },
  {
   "cell_type": "code",
   "execution_count": 24,
   "id": "a941b286-3d6c-4354-88d1-a4d8f28615ff",
   "metadata": {
    "tags": []
   },
   "outputs": [
    {
     "name": "stdout",
     "output_type": "stream",
     "text": [
      "+-----+------------------+\n",
      "|Month|        avg(Close)|\n",
      "+-----+------------------+\n",
      "|    1|  496.468688647595|\n",
      "|    2|508.39007361958375|\n",
      "|    3| 477.3591337443125|\n",
      "|    4|482.42328686337675|\n",
      "|    5| 487.1987677683734|\n",
      "|    6| 491.1081333945652|\n",
      "|    7|497.47155179134825|\n",
      "|    8|497.00198786410095|\n",
      "|    9|494.81639784761904|\n",
      "|   10| 501.5918244367927|\n",
      "|   11| 520.5698029569008|\n",
      "|   12|509.57525815349265|\n",
      "+-----+------------------+\n",
      "\n"
     ]
    }
   ],
   "source": [
    "#Create a new column Month from existing Date column\n",
    "month_df = df.withColumn('Month', month (df[ 'Date']))\n",
    "#Group by month and take average of all other columns\n",
    "month_df = month_df.groupBy('Month').mean()\n",
    "#Sort by month\n",
    "month_df = month_df.orderBy('Month')\n",
    "#Display only month and avg(Close), the desired columns\n",
    "month_df [ 'Month', 'avg(Close)'].show()"
   ]
  },
  {
   "cell_type": "code",
   "execution_count": null,
   "id": "f7da75ed-491c-4a7f-a016-742bb81a64d3",
   "metadata": {},
   "outputs": [],
   "source": []
  }
 ],
 "metadata": {
  "kernelspec": {
   "display_name": "Python 3 (ipykernel)",
   "language": "python",
   "name": "python3"
  },
  "language_info": {
   "codemirror_mode": {
    "name": "ipython",
    "version": 3
   },
   "file_extension": ".py",
   "mimetype": "text/x-python",
   "name": "python",
   "nbconvert_exporter": "python",
   "pygments_lexer": "ipython3",
   "version": "3.10.10"
  }
 },
 "nbformat": 4,
 "nbformat_minor": 5
}
